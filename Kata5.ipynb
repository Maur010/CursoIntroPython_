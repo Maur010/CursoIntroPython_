{
 "cells": [
  {
   "cell_type": "code",
   "execution_count": 1,
   "metadata": {},
   "outputs": [],
   "source": [
    "Tierra= 149597870\n",
    "Jupiter= 778547200"
   ]
  },
  {
   "cell_type": "code",
   "execution_count": 5,
   "metadata": {},
   "outputs": [
    {
     "name": "stdout",
     "output_type": "stream",
     "text": [
      "628949330 km\n"
     ]
    }
   ],
   "source": [
    "diferencias_planetas=Tierra-Jupiter\n",
    "print(abs(diferencias_planetas),\"km\")"
   ]
  },
  {
   "cell_type": "code",
   "execution_count": 7,
   "metadata": {},
   "outputs": [
    {
     "name": "stdout",
     "output_type": "stream",
     "text": [
      "390577533.93 millas\n"
     ]
    }
   ],
   "source": [
    "print(abs(diferencias_planetas)*0.621,\"millas\")"
   ]
  },
  {
   "cell_type": "markdown",
   "metadata": {},
   "source": [
    "# Ejercicio 2"
   ]
  },
  {
   "cell_type": "code",
   "execution_count": 13,
   "metadata": {},
   "outputs": [
    {
     "name": "stdout",
     "output_type": "stream",
     "text": [
      "Primer planeta 89 \n",
      "Segundo planeta: 54 \n",
      "Dif: 35 km\n",
      " En millas: 21.735\n"
     ]
    }
   ],
   "source": [
    "Primer_planeta=int(input())\n",
    "Segundo_planeta=int(input())\n",
    "Diferencia=abs(Primer_planeta-Segundo_planeta)\n",
    "print(\"Primer planeta\",Primer_planeta,\"\\nSegundo planeta:\",Segundo_planeta,\"\\nDif:\",Diferencia,\"km\\n\",\"En millas:\",Diferencia*0.621)"
   ]
  }
 ],
 "metadata": {
  "interpreter": {
   "hash": "1c8f63950cd32b8935a7c51739ffb05e0a4dbbf69a07da2c3b32ecaf9ec4ed94"
  },
  "kernelspec": {
   "display_name": "Python 3.9.0 64-bit",
   "language": "python",
   "name": "python3"
  },
  "language_info": {
   "codemirror_mode": {
    "name": "ipython",
    "version": 3
   },
   "file_extension": ".py",
   "mimetype": "text/x-python",
   "name": "python",
   "nbconvert_exporter": "python",
   "pygments_lexer": "ipython3",
   "version": "3.9.0"
  },
  "orig_nbformat": 4
 },
 "nbformat": 4,
 "nbformat_minor": 2
}
