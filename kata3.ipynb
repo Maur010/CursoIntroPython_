{
 "cells": [
  {
   "cell_type": "markdown",
   "metadata": {},
   "source": [
    "# Declaraciones if, else y elif"
   ]
  },
  {
   "cell_type": "code",
   "execution_count": 5,
   "metadata": {},
   "outputs": [
    {
     "name": "stdout",
     "output_type": "stream",
     "text": [
      "Advertencia\n"
     ]
    }
   ],
   "source": [
    "advertencia=25\n",
    "asteriode=49\n",
    "if asteriode>=advertencia:\n",
    "    print(\"Advertencia\")\n",
    "else:\n",
    "    print(\"Normal\")"
   ]
  },
  {
   "cell_type": "code",
   "execution_count": 8,
   "metadata": {},
   "outputs": [
    {
     "name": "stdout",
     "output_type": "stream",
     "text": [
      "¡Hay uno que se dirige a la tierra ahora a una velocidad de 19 km/s\n"
     ]
    }
   ],
   "source": [
    "advertencia2=20\n",
    "asteriode2=19\n",
    "if asteriode>=advertencia:\n",
    "    print(\"¡Hay uno que se dirige a la tierra ahora a una velocidad de\",asteriode2,\"km/s\")\n",
    "elif asteriode2== advertencia:\n",
    "    print(\"¡Hay uno que se dirige a la tierra ahora a una velocidad de\",asteriode2,\"km/s\")\n",
    "else:\n",
    "    print(\"No viene nada\")"
   ]
  },
  {
   "cell_type": "markdown",
   "metadata": {},
   "source": [
    "# Operadores and y or"
   ]
  },
  {
   "cell_type": "code",
   "execution_count": 23,
   "metadata": {},
   "outputs": [
    {
     "name": "stdout",
     "output_type": "stream",
     "text": [
      "No pasa nada\n"
     ]
    }
   ],
   "source": [
    "Velocidad_asteriode=19\n",
    "Tamano_asteriode=30\n",
    "if Velocidad_asteriode>=25:\n",
    "    print(\"Advertencia, asteroide acercandose a velocidad de:\",Velocidad_asteriode,\"km/s\")\n",
    "    if Tamano_asteriode>=25 and Tamano_asteriode<=1000:\n",
    "        print(\"Peligro inminente, asteroide de tamaño:\",Tamano_asteriode,\"mts\")\n",
    "    elif Tamano_asteriode==25 and Tamano_asteriode==1000:\n",
    "        print(\"Peligro inminente\",Tamano_asteriode,\"mts\")\n",
    "    \n",
    "elif Velocidad_asteriode>=20 and Velocidad_asteriode<25:\n",
    "    print(\"¡Hay uno que se dirige a la tierra ahora a una velocidad de\",Velocidad_asteriode,\"km/s\")\n",
    "else:\n",
    "    print(\"No pasa nada\")\n",
    "\n"
   ]
  }
 ],
 "metadata": {
  "interpreter": {
   "hash": "1c8f63950cd32b8935a7c51739ffb05e0a4dbbf69a07da2c3b32ecaf9ec4ed94"
  },
  "kernelspec": {
   "display_name": "Python 3.9.0 64-bit",
   "language": "python",
   "name": "python3"
  },
  "language_info": {
   "codemirror_mode": {
    "name": "ipython",
    "version": 3
   },
   "file_extension": ".py",
   "mimetype": "text/x-python",
   "name": "python",
   "nbconvert_exporter": "python",
   "pygments_lexer": "ipython3",
   "version": "3.9.0"
  },
  "orig_nbformat": 4
 },
 "nbformat": 4,
 "nbformat_minor": 2
}
