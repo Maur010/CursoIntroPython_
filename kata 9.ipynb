{
 "cells": [
  {
   "cell_type": "markdown",
   "metadata": {},
   "source": [
    "# Ejercicio 1"
   ]
  },
  {
   "cell_type": "code",
   "execution_count": 33,
   "metadata": {},
   "outputs": [],
   "source": [
    "def tanques(*args):\n",
    "    return f\"\"\" Reporte:\n",
    "   Total promedio: {sum(args)/len(args)}%\n",
    "   Primer Yanque: {args[0]}%\n",
    "   Segundo Tanque: {args[1]}%\n",
    "   Tercer Tanque: {args[2]}%\n",
    "   \"\"\"\n"
   ]
  },
  {
   "cell_type": "code",
   "execution_count": 34,
   "metadata": {},
   "outputs": [
    {
     "name": "stdout",
     "output_type": "stream",
     "text": [
      " Reporte:\n",
      "   Total promedio: 78.33333333333333%\n",
      "   Primer Yanque: 80%\n",
      "   Segundo Tanque: 70%\n",
      "   Tercer Tanque: 85%\n",
      "   \n"
     ]
    }
   ],
   "source": [
    "print(tanques(80,70,85))"
   ]
  },
  {
   "cell_type": "markdown",
   "metadata": {},
   "source": [
    "# Ejercicio 2"
   ]
  },
  {
   "cell_type": "code",
   "execution_count": 42,
   "metadata": {},
   "outputs": [],
   "source": [
    "def informe(Destino, *minutos, **Reservas_combustible):\n",
    "    reporte= f\"\"\"\n",
    "    Misión a: {Destino}\n",
    "    Tiempo viajado: {sum(minutos)} min\n",
    "    Reservas de combustible: {sum(Reservas_combustible.values())}\n",
    "    \"\"\"\n",
    "    for nombre_tank, litros in Reservas_combustible.items():\n",
    "        reporte += f\"{nombre_tank} tanque= {litros} litros restantes\\n\"\n",
    "    return reporte\n"
   ]
  },
  {
   "cell_type": "code",
   "execution_count": 44,
   "metadata": {},
   "outputs": [
    {
     "name": "stdout",
     "output_type": "stream",
     "text": [
      "\n",
      "    Misión a: Luna\n",
      "    Tiempo viajado: 76 min\n",
      "    Reservas de combustible: 500000\n",
      "    principal tanque= 300000 litros restantes\n",
      "externo tanque= 200000 litros restantes\n",
      "\n"
     ]
    }
   ],
   "source": [
    "print(informe(\"Luna\", 10, 15, 51, principal=300000, externo=200000))"
   ]
  }
 ],
 "metadata": {
  "interpreter": {
   "hash": "1c8f63950cd32b8935a7c51739ffb05e0a4dbbf69a07da2c3b32ecaf9ec4ed94"
  },
  "kernelspec": {
   "display_name": "Python 3.9.0 64-bit",
   "language": "python",
   "name": "python3"
  },
  "language_info": {
   "codemirror_mode": {
    "name": "ipython",
    "version": 3
   },
   "file_extension": ".py",
   "mimetype": "text/x-python",
   "name": "python",
   "nbconvert_exporter": "python",
   "pygments_lexer": "ipython3",
   "version": "3.9.0"
  },
  "orig_nbformat": 4
 },
 "nbformat": 4,
 "nbformat_minor": 2
}
